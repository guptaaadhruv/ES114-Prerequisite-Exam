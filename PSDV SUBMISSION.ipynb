{
 "cells": [
  {
   "cell_type": "markdown",
   "id": "17800651-1849-47b9-83d7-70e4a93f4861",
   "metadata": {},
   "source": [
    "# Q1. LIST OPERATIONS AND BASIC STATISTICS"
   ]
  },
  {
   "cell_type": "code",
   "execution_count": 14,
   "id": "0ac38b20-9e66-4fd2-95ae-80aa7490d416",
   "metadata": {},
   "outputs": [
    {
     "name": "stdout",
     "output_type": "stream",
     "text": [
      "[1, 2, 3, 4, 5, 6, 7, 8, 9, 10, 11, 12, 13, 14, 15, 16, 17, 18, 19, 20]\n"
     ]
    }
   ],
   "source": [
    "#1 list of the first 20 natural numbers.\n",
    "natural_numbers = [x for x in range(1,21)]\n",
    "print(natural_numbers)"
   ]
  },
  {
   "cell_type": "code",
   "execution_count": 16,
   "id": "293a61f0-19d3-4f85-8b7f-b2fe058eef51",
   "metadata": {},
   "outputs": [
    {
     "name": "stdout",
     "output_type": "stream",
     "text": [
      "110\n"
     ]
    }
   ],
   "source": [
    "#2 sum of all even numbers in the list.\n",
    "sum_of_even = 0\n",
    "for n in natural_numbers:\n",
    "    if n%2 == 0:\n",
    "        sum_of_even += n\n",
    "    else:\n",
    "        continue\n",
    "\n",
    "print(sum_of_even)"
   ]
  },
  {
   "cell_type": "code",
   "execution_count": 18,
   "id": "3aee1c9b-4490-4cc6-b273-954ca19f89de",
   "metadata": {},
   "outputs": [
    {
     "name": "stdout",
     "output_type": "stream",
     "text": [
      "654729075\n"
     ]
    }
   ],
   "source": [
    "#3 product of all odd numbers in the list.\n",
    "product = 1\n",
    "for number in natural_numbers:\n",
    "    if number%2 != 0:\n",
    "        product *= number\n",
    "    else:\n",
    "        continue\n",
    "        \n",
    "print(product)"
   ]
  },
  {
   "cell_type": "code",
   "execution_count": 26,
   "id": "8522bbbe-2bca-4615-a45d-cf7bde5c577a",
   "metadata": {},
   "outputs": [
    {
     "name": "stdout",
     "output_type": "stream",
     "text": [
      "\n",
      "The mean is 10.5\n",
      "\n",
      "The median is 11.5\n",
      "\n",
      "The standard deviation is 5.766281297335398\n"
     ]
    }
   ],
   "source": [
    "#mean\n",
    "mean = sum(natural_numbers)/len(natural_numbers)\n",
    "print(f'\\nThe mean is {mean}')\n",
    "\n",
    "#median\n",
    "\n",
    "if len(natural_numbers) % 2 == 0:\n",
    "    median = (natural_numbers[int(len(natural_numbers)/2)] + natural_numbers[int(len(natural_numbers)/2+1)])/2\n",
    "else:\n",
    "    median = natural_numbers[int(len(natural_numbers)/2)]\n",
    "print(f\"\\nThe median is {median}\")\n",
    "\n",
    "#standard deviation\n",
    "import math\n",
    "\n",
    "s = 0\n",
    "for num in natural_numbers:\n",
    "    s += (num-mean)**2\n",
    "standard_deviation = math.sqrt(s/(len(natural_numbers)))\n",
    "print(f'\\nThe standard deviation is {standard_deviation}')"
   ]
  },
  {
   "cell_type": "markdown",
   "id": "d1f11115-53d8-4a3a-a604-1dc3aa6c0d58",
   "metadata": {},
   "source": [
    "# Q2. MUTABLE VS IMMUTABLE DATA TYPES"
   ]
  },
  {
   "cell_type": "markdown",
   "id": "20b28160-9222-4a4c-93a6-373dcd4dadea",
   "metadata": {},
   "source": [
    "Data types which can be modified are called Mutable Data Types.\n",
    "Example: Lists, Dictionaries\n",
    "\n",
    "Data types which cannot be modified once defined are called Immutable Data Types.\n",
    "Example: Tuples"
   ]
  },
  {
   "cell_type": "markdown",
   "id": "7770e034-5146-402b-86f6-eca18df4d64f",
   "metadata": {},
   "source": [
    "# Q3. FIBONACCI SEQUENCE"
   ]
  },
  {
   "cell_type": "code",
   "execution_count": 74,
   "id": "04560982-2323-402f-b9ac-40ec37d245ab",
   "metadata": {},
   "outputs": [
    {
     "name": "stdin",
     "output_type": "stream",
     "text": [
      " 10\n"
     ]
    },
    {
     "data": {
      "text/plain": [
       "[0, 1, 1, 2, 3, 5, 8, 13, 21, 34]"
      ]
     },
     "execution_count": 74,
     "metadata": {},
     "output_type": "execute_result"
    }
   ],
   "source": [
    "#Python function that takes a number n and returns a list of the first n Fibonacci numbers.\n",
    "\n",
    "def fibonacci(n):\n",
    "    \n",
    "    lst = []\n",
    "    a,b = 0,1    \n",
    "    for i in range(n):\n",
    "        lst.append(a)\n",
    "        a,b = b,a+b\n",
    "        \n",
    "    return lst\n",
    "\n",
    "n = int(input())\n",
    "fibonacci(n)"
   ]
  },
  {
   "cell_type": "code",
   "execution_count": 291,
   "id": "4201cb39-41d2-4027-af32-286795259a72",
   "metadata": {},
   "outputs": [],
   "source": [
    "import matplotlib.pyplot as plt"
   ]
  },
  {
   "cell_type": "code",
   "execution_count": 80,
   "id": "30b92106-38fd-4d2a-989c-5123ddcc0f10",
   "metadata": {},
   "outputs": [
    {
     "data": {
      "image/png": "[encoded data removed]",
      "text/plain": [
       "<Figure size 640x480 with 1 Axes>"
      ]
     },
     "metadata": {},
     "output_type": "display_data"
    }
   ],
   "source": [
    "#plotting\n",
    "\n",
    "x = [x for x in range(n)]\n",
    "y = fibonacci(n)\n",
    "\n",
    "plt.plot(x,y)\n",
    "plt.show()"
   ]
  },
  {
   "cell_type": "markdown",
   "id": "50288f68-a570-41cc-b205-9382d813b5db",
   "metadata": {},
   "source": [
    "# Q4. LIST MANIPULATION"
   ]
  },
  {
   "cell_type": "code",
   "execution_count": 279,
   "id": "6c9a1a58-03a7-4fcb-8c98-7fdef0ad7862",
   "metadata": {},
   "outputs": [],
   "source": [
    "lst = [3, 5, 7, 9, 11, 13]"
   ]
  },
  {
   "cell_type": "code",
   "execution_count": 281,
   "id": "068d844d-4b07-4adf-8c84-bd220213e18d",
   "metadata": {},
   "outputs": [],
   "source": [
    "#1 Inserting 6 at the 3rd index\n",
    "lst.insert(3,6)"
   ]
  },
  {
   "cell_type": "code",
   "execution_count": 283,
   "id": "93e7b2a8-c8bb-476f-a827-e3f2cf8387cf",
   "metadata": {},
   "outputs": [
    {
     "data": {
      "text/plain": [
       "[3, 5, 7, 6, 9, 11, 13]"
      ]
     },
     "execution_count": 283,
     "metadata": {},
     "output_type": "execute_result"
    }
   ],
   "source": [
    "lst"
   ]
  },
  {
   "cell_type": "code",
   "execution_count": 285,
   "id": "bce22f0d-321b-4bdc-9a71-04319cd43432",
   "metadata": {},
   "outputs": [
    {
     "data": {
      "text/plain": [
       "[3, 5, 6, 9, 11, 13]"
      ]
     },
     "execution_count": 285,
     "metadata": {},
     "output_type": "execute_result"
    }
   ],
   "source": [
    "# removing 7 from the list\n",
    "lst.pop(2)\n",
    "lst"
   ]
  },
  {
   "cell_type": "code",
   "execution_count": 287,
   "id": "b3b05e60-fe91-49f5-9d6e-d089ba535f65",
   "metadata": {},
   "outputs": [
    {
     "data": {
      "text/plain": [
       "[13, 11, 9, 6, 5, 3]"
      ]
     },
     "execution_count": 287,
     "metadata": {},
     "output_type": "execute_result"
    }
   ],
   "source": [
    "#reversing the list\n",
    "lst.reverse()\n",
    "lst"
   ]
  },
  {
   "cell_type": "code",
   "execution_count": 289,
   "id": "0af16380-ef14-4acf-959e-a1fa9bc80a01",
   "metadata": {},
   "outputs": [
    {
     "name": "stdout",
     "output_type": "stream",
     "text": [
      "The mean of the list is 7.833333333333333\n",
      "The median of the list is 7.5\n"
     ]
    }
   ],
   "source": [
    "#mean\n",
    "mean = sum(lst)/len(lst)\n",
    "print(f\"The mean of the list is {mean}\")\n",
    "\n",
    "#median\n",
    "lst.sort()\n",
    "median = (lst[2]+lst[3])/2\n",
    "print(f'The median of the list is {median}')"
   ]
  },
  {
   "cell_type": "markdown",
   "id": "a9839c76-8bd0-4345-abbb-37c16c7045f8",
   "metadata": {},
   "source": [
    "# Q5. USER INPUT AND BASIC STATISTICS"
   ]
  },
  {
   "cell_type": "code",
   "execution_count": 135,
   "id": "e91e5a6c-8297-48ca-a781-d7a84f266cd6",
   "metadata": {},
   "outputs": [
    {
     "name": "stdin",
     "output_type": "stream",
     "text": [
      " 1,2,3,4\n"
     ]
    },
    {
     "name": "stdout",
     "output_type": "stream",
     "text": [
      "The mean of the list is 2.5\n",
      "The smallest number is 1\n",
      "The largest number is 4\n"
     ]
    },
    {
     "data": {
      "image/png": "[encoded data removed]",
      "text/plain": [
       "<Figure size 640x480 with 1 Axes>"
      ]
     },
     "metadata": {},
     "output_type": "display_data"
    }
   ],
   "source": [
    "user_input = list(map(int,input().split(',')))\n",
    "\n",
    "#mean \n",
    "print(f'The mean of the list is {sum(user_input)/len(user_input)}')\n",
    "\n",
    "#smallest and largest\n",
    "\n",
    "print(f'The smallest number is {min(user_input)}')\n",
    "print(f'The largest number is {max(user_input)}')\n",
    "\n",
    "import matplotlib.pyplot as plt\n",
    "\n",
    "plt.hist(user_input)\n",
    "plt.show()"
   ]
  },
  {
   "cell_type": "markdown",
   "id": "6c7b1984-db1d-4ef0-be95-74c6fbf16f1d",
   "metadata": {},
   "source": [
    "# Q6. PALINDROME CHECK"
   ]
  },
  {
   "cell_type": "code",
   "execution_count": 156,
   "id": "b8255523-1a18-4077-8a70-bdaf3ca40f80",
   "metadata": {},
   "outputs": [
    {
     "name": "stdin",
     "output_type": "stream",
     "text": [
      " A man a plan a canal Panama\n"
     ]
    },
    {
     "name": "stdout",
     "output_type": "stream",
     "text": [
      "True\n"
     ]
    }
   ],
   "source": [
    "#Program to check for palindrome\n",
    "\n",
    "phrase = input().lower().split(' ')\n",
    "x = ''.join(phrase)\n",
    "\n",
    "if x==x[::-1]:\n",
    "    print('True')\n"
   ]
  },
  {
   "cell_type": "markdown",
   "id": "43514fe8-6bd1-483e-b51b-9cd91835f4ff",
   "metadata": {},
   "source": [
    "# Q7. DICTIONARY OPERATIONS"
   ]
  },
  {
   "cell_type": "code",
   "execution_count": 8,
   "id": "590f96ae-4f08-45b0-ab64-3d8154dad0fc",
   "metadata": {},
   "outputs": [],
   "source": [
    "student_marks = {'Rohan':98,'Priya':92,'Anmol':95}"
   ]
  },
  {
   "cell_type": "code",
   "execution_count": 9,
   "id": "64cbb461-ddd2-4fea-a9b0-ebbb3ef1b8fd",
   "metadata": {},
   "outputs": [
    {
     "name": "stdout",
     "output_type": "stream",
     "text": [
      "95.0\n"
     ]
    }
   ],
   "source": [
    "# average marks\n",
    "average = sum(student_marks.values())/3\n",
    "print(average)"
   ]
  },
  {
   "cell_type": "code",
   "execution_count": 11,
   "id": "77d26e6f-2e03-4395-b1d4-e14038aa818f",
   "metadata": {},
   "outputs": [
    {
     "name": "stdout",
     "output_type": "stream",
     "text": [
      "Rohan\n"
     ]
    }
   ],
   "source": [
    "# names of student above average\n",
    "\n",
    "for names,values in student_marks.items():\n",
    "    if values > average:\n",
    "        print(names)\n",
    "        \n",
    "\n"
   ]
  },
  {
   "cell_type": "code",
   "execution_count": 17,
   "id": "5cce7a5a-08c4-464e-bee8-78cfa50ff159",
   "metadata": {},
   "outputs": [
    {
     "data": {
      "text/plain": [
       "<BarContainer object of 3 artists>"
      ]
     },
     "execution_count": 17,
     "metadata": {},
     "output_type": "execute_result"
    },
    {
     "data": {
      "image/png": "[encoded data removed]",
      "text/plain": [
       "<Figure size 640x480 with 1 Axes>"
      ]
     },
     "metadata": {},
     "output_type": "display_data"
    }
   ],
   "source": [
    "# plot\n",
    "import matplotlib.pyplot as plt\n",
    "marks = student_marks.values()\n",
    "names = student_marks.keys()\n",
    "\n",
    "plt.bar(names,marks)"
   ]
  },
  {
   "cell_type": "markdown",
   "id": "f64f35af-d7d2-4caf-9bfc-a38183f1c8f9",
   "metadata": {},
   "source": [
    "# Q8. TUPLE LIST CREATION"
   ]
  },
  {
   "cell_type": "code",
   "execution_count": 19,
   "id": "281fde0e-3d44-4e01-b4a2-3ad8e566379f",
   "metadata": {},
   "outputs": [
    {
     "name": "stdout",
     "output_type": "stream",
     "text": [
      "[(1, 1), (2, 4), (3, 9), (4, 16), (5, 25), (6, 36), (7, 49), (8, 64), (9, 81), (10, 100)]\n"
     ]
    }
   ],
   "source": [
    "#creating a list of tuples which contain number and its square\n",
    "lst = []\n",
    "for i in range(1,11):\n",
    "    x = tuple((i,i**2))\n",
    "    lst.append(x)\n",
    "print(lst)\n"
   ]
  },
  {
   "cell_type": "code",
   "execution_count": 21,
   "id": "d1f1f3d9-63ef-41d9-b64f-1d340e40b276",
   "metadata": {},
   "outputs": [
    {
     "data": {
      "text/plain": [
       "<matplotlib.collections.PathCollection at 0x23f017606e0>"
      ]
     },
     "execution_count": 21,
     "metadata": {},
     "output_type": "execute_result"
    },
    {
     "data": {
      "image/png": "[encoded data removed]",
      "text/plain": [
       "<Figure size 640x480 with 1 Axes>"
      ]
     },
     "metadata": {},
     "output_type": "display_data"
    }
   ],
   "source": [
    "#scatter plot\n",
    "lst_num = [x for x in range(1,11)]\n",
    "lst_squared = [x*x for x in range(1,11)]\n",
    "plt.scatter(lst_num,lst_squared)"
   ]
  },
  {
   "cell_type": "markdown",
   "id": "542f37ca-75d0-4f0e-9130-f7b2c6e48e11",
   "metadata": {},
   "source": [
    "# Q9. MERGING DICTIONARIES"
   ]
  },
  {
   "cell_type": "code",
   "execution_count": 44,
   "id": "44f4c436-8517-4dd4-ace9-aa40926d6afb",
   "metadata": {},
   "outputs": [
    {
     "data": {
      "text/plain": [
       "{'a': 10, 'b': 25, 'c': 15}"
      ]
     },
     "execution_count": 44,
     "metadata": {},
     "output_type": "execute_result"
    }
   ],
   "source": [
    "#merge 2 dictionaries\n",
    "dict1 = {'a': 10, 'b': 20}\n",
    "dict2 = {'b': 5, 'c': 15}\n",
    "dict3 = dict1.copy()\n",
    "\n",
    "for key,value in dict2.items():\n",
    "    if key in dict3.keys():\n",
    "        dict3[key] = value + dict3[key]\n",
    "    else:\n",
    "        dict3[key] = value\n",
    "dict3.\n",
    "    "
   ]
  },
  {
   "cell_type": "markdown",
   "id": "cb048309-ca0e-44b5-85dc-2ee92b4e68ba",
   "metadata": {},
   "source": [
    "# Q10. CHARACTER FREQUENCY"
   ]
  },
  {
   "cell_type": "code",
   "execution_count": 23,
   "id": "17fc4ae2-d35b-44b0-a375-fec097d1e47e",
   "metadata": {},
   "outputs": [
    {
     "name": "stdin",
     "output_type": "stream",
     "text": [
      " psdvisthebestcourse\n"
     ]
    },
    {
     "name": "stdout",
     "output_type": "stream",
     "text": [
      "{'p': 1, 's': 4, 'd': 1, 'v': 1, 'i': 1, 't': 2, 'h': 1, 'e': 3, 'b': 1, 'c': 1, 'o': 1, 'u': 1, 'r': 1}\n"
     ]
    }
   ],
   "source": [
    "# Write a function that accepts a string \n",
    "def func(string):\n",
    "    counts = {}\n",
    "# Converts all characters to lowercase.\n",
    "    lower_cased = string.lower()\n",
    "# Counts the frequency of each character.\n",
    "    for letter in lower_cased:\n",
    "        if letter not in counts.keys():\n",
    "            counts[letter] = lower_cased.count(letter)\n",
    "    return (counts)\n",
    "\n",
    "n = input()\n",
    "# dictionary with characters as keys and their counts as values.\n",
    "dictionary = func(n)\n",
    "print(dictionary)"
   ]
  },
  {
   "cell_type": "code",
   "execution_count": 24,
   "id": "0d1a1c22-86bf-4d73-8dbd-8aa8c852d60f",
   "metadata": {},
   "outputs": [
    {
     "data": {
      "text/plain": [
       "<BarContainer object of 13 artists>"
      ]
     },
     "execution_count": 24,
     "metadata": {},
     "output_type": "execute_result"
    },
    {
     "data": {
      "image/png": "[encoded data removed]",
      "text/plain": [
       "<Figure size 640x480 with 1 Axes>"
      ]
     },
     "metadata": {},
     "output_type": "display_data"
    }
   ],
   "source": [
    "# PLOT OF BAR CHART\n",
    "plt.bar(dictionary.keys(),dictionary.values())"
   ]
  },
  {
   "cell_type": "markdown",
   "id": "637b157d-44aa-409d-ad55-d6c73ec9ffce",
   "metadata": {},
   "source": [
    "# Q11. REMOVE DUPLICATES"
   ]
  },
  {
   "cell_type": "code",
   "execution_count": 78,
   "id": "68994020-0239-4c72-a5fc-0ed596b60faf",
   "metadata": {},
   "outputs": [
    {
     "name": "stdin",
     "output_type": "stream",
     "text": [
      " 4533423\n"
     ]
    },
    {
     "name": "stdout",
     "output_type": "stream",
     "text": [
      "[2, 3, 4, 5]\n",
      "The mean is:  3.5\n",
      "\n",
      "The median is 3.5\n"
     ]
    }
   ],
   "source": [
    "#program to remove duplicate elements from a list while maintaining the order of elements.\n",
    "lst = list(map(int,input()))\n",
    "new_lst = []\n",
    "for item in lst:\n",
    "    if item not in new_lst:\n",
    "        new_lst.append(item)\n",
    "    else:\n",
    "        continue\n",
    "new_lst.sort()\n",
    "print(new_lst)\n",
    "\n",
    "#mean\n",
    "print(\"The mean is: \",sum(new_lst)/len(new_lst))\n",
    "\n",
    "#median\n",
    "if len(new_lst) % 2 == 0:\n",
    "    median = (new_lst[int(len(new_lst)/2)-1] + new_lst[int(len(new_lst)/2+1)-1])/2\n",
    "else:\n",
    "    median = new_lst[int(len(new_lst)/2)-1]\n",
    "print(f\"\\nThe median is {median}\")"
   ]
  },
  {
   "cell_type": "markdown",
   "id": "c16677ed-a3e7-4b00-8423-2ec3afba651d",
   "metadata": {},
   "source": [
    "# Q12. STRING OPERATIONS"
   ]
  },
  {
   "cell_type": "code",
   "execution_count": 45,
   "id": "13279031-cfcd-4801-94e5-f2a17b14f62b",
   "metadata": {},
   "outputs": [
    {
     "name": "stdin",
     "output_type": "stream",
     "text": [
      " i,am,dhruv\n"
     ]
    },
    {
     "name": "stdout",
     "output_type": "stream",
     "text": [
      "['i', 'am', 'dhruv']\n",
      "The max length is 5\n",
      "Words starting from vowels are 2\n",
      "{'i': 1, 'am': 2, 'dhruv': 5}\n"
     ]
    }
   ],
   "source": [
    "strings = list(input().split(','))\n",
    "print(strings)\n",
    "def function(strings):\n",
    "    max_len = 0\n",
    "    vowel = 0\n",
    "    string_lengths = {}\n",
    "    for items in strings:\n",
    "        string_lengths[items] = len(items) \n",
    "        if len(items)>max_len:\n",
    "            max_len = len(items)\n",
    "        if items[0] in ['a','e','i','o','u']:\n",
    "            vowel += 1\n",
    "    print(f'The max length is {max_len}')\n",
    "    print(f\"Words starting from vowels are {vowel}\")\n",
    "    return string_lengths\n",
    "    \n",
    "lengths = function(strings)\n",
    "print(lengths)"
   ]
  },
  {
   "cell_type": "code",
   "execution_count": 53,
   "id": "52aa102d-9bf2-456a-942f-00a2c7eba7d3",
   "metadata": {},
   "outputs": [
    {
     "data": {
      "text/plain": [
       "(array([1., 0., 1., 0., 0., 0., 0., 0., 0., 1.]),\n",
       " array([1. , 1.4, 1.8, 2.2, 2.6, 3. , 3.4, 3.8, 4.2, 4.6, 5. ]),\n",
       " <BarContainer object of 10 artists>)"
      ]
     },
     "execution_count": 53,
     "metadata": {},
     "output_type": "execute_result"
    },
    {
     "data": {
      "image/png": "[encoded data removed]",
      "text/plain": [
       "<Figure size 640x480 with 1 Axes>"
      ]
     },
     "metadata": {},
     "output_type": "display_data"
    }
   ],
   "source": [
    "#histogram\n",
    "\n",
    "plt.hist(lengths.values())"
   ]
  },
  {
   "cell_type": "markdown",
   "id": "13c22303-fb60-4815-bde1-f15a86f14fb3",
   "metadata": {},
   "source": [
    "# Q13. SORTING DICTIONARIES"
   ]
  },
  {
   "cell_type": "code",
   "execution_count": 95,
   "id": "f1158c7a-cd13-48c1-83e3-870339f96786",
   "metadata": {},
   "outputs": [],
   "source": [
    "data = [{'name': 'Alice', 'age': 25}, {'name': 'Bob', 'age': 22}]"
   ]
  },
  {
   "cell_type": "code",
   "execution_count": 117,
   "id": "f3d2d5fb-b1f5-4e89-a007-18c6cd6d4e85",
   "metadata": {},
   "outputs": [
    {
     "name": "stdin",
     "output_type": "stream",
     "text": [
      " age\n"
     ]
    },
    {
     "data": {
      "text/plain": [
       "[{'name': 'Bob', 'age': 22}, {'name': 'Alice', 'age': 25}]"
      ]
     },
     "execution_count": 117,
     "metadata": {},
     "output_type": "execute_result"
    }
   ],
   "source": [
    "# SORT A LIST OF DICTIONARIES BY A KEY\n",
    "sort_by = input()\n",
    "data.sort(key=lambda x:x[sort_by])\n",
    "data"
   ]
  },
  {
   "cell_type": "markdown",
   "id": "0ff7e1d4-ab53-47e8-ad78-bebd5722c5ae",
   "metadata": {},
   "source": [
    "# Q.14 WORD FILTERING AND SORTING"
   ]
  },
  {
   "cell_type": "code",
   "execution_count": 59,
   "id": "9ab7338d-7959-4480-bf90-69bc478b6da9",
   "metadata": {},
   "outputs": [
    {
     "name": "stdin",
     "output_type": "stream",
     "text": [
      " i like the way psdv course is going on\n"
     ]
    },
    {
     "name": "stdout",
     "output_type": "stream",
     "text": [
      "['like', 'psdv', 'course', 'going']\n",
      "Sorted list: ['course', 'going', 'like', 'psdv']\n"
     ]
    }
   ],
   "source": [
    "#SPLIT A STRING INTO A LIST OF WORDS\n",
    "lst_of_words = list(input().split(\" \"))\n",
    "\n",
    "#Remove all the words that are shorter than 4 character\n",
    "for word in lst_of_words:\n",
    "    for word in lst_of_words:\n",
    "        if len(word)<4:\n",
    "            lst_of_words.remove(word)\n",
    "print(lst_of_words)\n",
    "\n",
    "#Sort the remaining words alphabetically\n",
    "lst_of_words.sort()\n",
    "print(f'Sorted list: {lst_of_words}')\n",
    "\n",
    "len_of_words = []\n",
    "for words in lst_of_words:\n",
    "    len_of_words.append(len(words))"
   ]
  },
  {
   "cell_type": "code",
   "execution_count": 60,
   "id": "dc63d176-5337-4161-8e31-ce86463077a7",
   "metadata": {},
   "outputs": [
    {
     "data": {
      "text/plain": [
       "<BarContainer object of 4 artists>"
      ]
     },
     "execution_count": 60,
     "metadata": {},
     "output_type": "execute_result"
    },
    {
     "data": {
      "image/png": "[encoded data removed]",
      "text/plain": [
       "<Figure size 640x480 with 1 Axes>"
      ]
     },
     "metadata": {},
     "output_type": "display_data"
    }
   ],
   "source": [
    "plt.bar(lst_of_words,len_of_words)"
   ]
  },
  {
   "cell_type": "markdown",
   "id": "54d75ccf-13ce-4ee6-8b09-cb01bf3c74b4",
   "metadata": {},
   "source": [
    "# Q.15 ANAGRAM FINDER"
   ]
  },
  {
   "cell_type": "code",
   "execution_count": 148,
   "id": "640fc480-e342-4055-bbc6-b4676fa2164d",
   "metadata": {},
   "outputs": [
    {
     "name": "stdin",
     "output_type": "stream",
     "text": [
      " listen\n"
     ]
    },
    {
     "name": "stdout",
     "output_type": "stream",
     "text": [
      "['enlist', 'inlets']\n"
     ]
    }
   ],
   "source": [
    "# find all the anagrams in the list\n",
    "\n",
    "words = [\"enlist\", \"google\", \"inlets\", \"banana\"]\n",
    "\n",
    "def anagram_finder(word,words):\n",
    "\n",
    "    anagrams = []\n",
    "    for elements in words:\n",
    "        if sorted(elements) == sorted(word):\n",
    "            anagrams.append(elements)\n",
    "    \n",
    "    print(anagrams)\n",
    "\n",
    "anagram_finder(input(),words)"
   ]
  },
  {
   "cell_type": "markdown",
   "id": "6219241f-8fa8-4929-a10a-9b99d22e4e7f",
   "metadata": {},
   "source": [
    "# Q.16 SET OPERATIONS"
   ]
  },
  {
   "cell_type": "code",
   "execution_count": 63,
   "id": "2ed567c2-9d9f-464b-b64e-4a992aba714f",
   "metadata": {},
   "outputs": [
    {
     "name": "stdout",
     "output_type": "stream",
     "text": [
      "[0, 1, 2, 3, 4, 5, 6, 7, 8, 9] --1   2-- [5, 6, 7, 8, 9]\n",
      "UNION: [0, 1, 2, 3, 4, 5, 6, 7, 8, 9, 5, 6, 7, 8, 9]\n",
      "INTERSECTION: [5, 6, 7, 8, 9]\n",
      "The symmetric difference is [0, 1, 2, 3, 4]\n"
     ]
    }
   ],
   "source": [
    "lst1 = [x for x in range(10)]\n",
    "lst12 = [x for x in range(5,10)]\n",
    "print(lst1,\"--1   2--\",lst12)\n",
    "\n",
    "#union of the list\n",
    "lst3 = lst1 + lst12\n",
    "print(f'UNION: {lst3}')\n",
    "\n",
    "# intersection\n",
    "intersection = []\n",
    "for numbers in lst1:\n",
    "    if numbers in lst12:\n",
    "        intersection.append(numbers)\n",
    "\n",
    "print(f'INTERSECTION: {intersection}')\n",
    "\n",
    "#symmetric difference\n",
    "new_lst = []\n",
    "for numbers in lst1:\n",
    "    if numbers not in intersection:\n",
    "        new_lst.append(numbers)\n",
    "\n",
    "for numberrs in lst12:\n",
    "    if numbers not in intersection:\n",
    "        new_lst.append(numbers)\n",
    "\n",
    "print(f\"The symmetric difference is {new_lst}\")"
   ]
  },
  {
   "cell_type": "code",
   "execution_count": 66,
   "id": "8f247384-d165-49e4-ae53-5236d3610851",
   "metadata": {},
   "outputs": [
    {
     "data": {
      "text/plain": [
       "<matplotlib_venn._common.VennDiagram at 0x23f8062bd40>"
      ]
     },
     "execution_count": 66,
     "metadata": {},
     "output_type": "execute_result"
    },
    {
     "data": {
      "image/png": "[encoded data removed]",
      "text/plain": [
       "<Figure size 640x480 with 1 Axes>"
      ]
     },
     "metadata": {},
     "output_type": "display_data"
    }
   ],
   "source": [
    "from matplotlib_venn import venn3\n",
    "venn3([set(intersection),set(lst3),set(new_lst)],('INTERSECTION','UNION','SYMM DIFF'))"
   ]
  },
  {
   "cell_type": "markdown",
   "id": "b3b9b3ce-e588-4052-93dd-2b2819d8cb9f",
   "metadata": {},
   "source": [
    "# Q17. FILE OPERATIONS"
   ]
  },
  {
   "cell_type": "code",
   "execution_count": 225,
   "id": "f8ea2299-2d86-4f3b-8e46-ec9f59ad4fef",
   "metadata": {},
   "outputs": [],
   "source": [
    "# creating a text file\n",
    "f = open('numbers_psdv.txt','w')\n",
    "\n",
    "#write a list of numbers to the file\n",
    "for i in range(1,10):\n",
    "    f.write(str(i))\n",
    "    f.write('\\n')\n",
    "\n",
    "f.close()\n"
   ]
  },
  {
   "cell_type": "code",
   "execution_count": 227,
   "id": "880fc767-1318-455a-9001-5c0a97cde3a1",
   "metadata": {},
   "outputs": [
    {
     "name": "stdout",
     "output_type": "stream",
     "text": [
      "45\n"
     ]
    }
   ],
   "source": [
    "#read the file and compute their sum\n",
    "f = open('numbers_psdv.txt','r')\n",
    "total = 0\n",
    "for line in f:\n",
    "    num = int(line.strip())\n",
    "    total+=num\n",
    "print(total)\n",
    "f.close()"
   ]
  },
  {
   "cell_type": "markdown",
   "id": "75375c01-39ab-46f3-a7e5-35de16cccc5e",
   "metadata": {},
   "source": [
    "# Q18. WORD COUNT AND FREQUENCY"
   ]
  },
  {
   "cell_type": "code",
   "execution_count": 70,
   "id": "c5211cd8-4506-44ec-846a-aadf7d7cd03e",
   "metadata": {},
   "outputs": [],
   "source": [
    "word_file = open('word_psdv.txt','w')\n",
    "\n",
    "word_file.write('The stars are stars that shine like stars in the night sky')\n",
    "\n",
    "word_file.close()"
   ]
  },
  {
   "cell_type": "code",
   "execution_count": 71,
   "id": "f89eb741-e92c-4131-aaba-b676b7907a47",
   "metadata": {},
   "outputs": [
    {
     "name": "stdout",
     "output_type": "stream",
     "text": [
      "Number of words: 12\n",
      "The most frquent repeating word is stars\n"
     ]
    }
   ],
   "source": [
    "# read a file and count the number of words\n",
    "with open('word_psdv.txt','r') as file:\n",
    "    lst_of_words = list(file.read().split(' '))\n",
    "    \n",
    "    print(f'Number of words: {len(lst_of_words)}')\n",
    "\n",
    "    #most frequent word\n",
    "    d = {}\n",
    "    for elements in lst_of_words:\n",
    "        d[elements] = lst_of_words.count(elements)\n",
    "\n",
    "    count = 0\n",
    "    word = ''\n",
    "    for keys,item in d.items():\n",
    "        if item>count:\n",
    "            count = item\n",
    "            word = keys\n",
    "    print(f'The most frquent repeating word is {word}')"
   ]
  },
  {
   "cell_type": "code",
   "execution_count": 72,
   "id": "88b6f21c-bc92-4015-a5da-ecea4c674af1",
   "metadata": {},
   "outputs": [
    {
     "data": {
      "text/plain": [
       "<BarContainer object of 10 artists>"
      ]
     },
     "execution_count": 72,
     "metadata": {},
     "output_type": "execute_result"
    },
    {
     "data": {
      "image/png": "[encoded data removed]",
      "text/plain": [
       "<Figure size 640x480 with 1 Axes>"
      ]
     },
     "metadata": {},
     "output_type": "display_data"
    }
   ],
   "source": [
    "plt.bar(d.keys(),d.values())"
   ]
  },
  {
   "cell_type": "markdown",
   "id": "00f0eb77-83f6-40e1-9998-a1c10bc6df44",
   "metadata": {},
   "source": [
    "# Q19. RANDOM NUMBER GENERATION\n"
   ]
  },
  {
   "cell_type": "code",
   "execution_count": 73,
   "id": "91e35934-63e2-4736-854e-ad77c1bfe46f",
   "metadata": {},
   "outputs": [],
   "source": [
    "# 100 integers between 1 and 50\n",
    "import random\n",
    "\n",
    "\n",
    "new_file = open(\"100_int_PSDV.txt\",'w')\n",
    "for i in range(100):\n",
    "    new_file.write(str(random.randint(1,50)))\n",
    "    new_file.write('\\n')\n",
    "new_file.close()"
   ]
  },
  {
   "cell_type": "code",
   "execution_count": 74,
   "id": "ab25efa2-3f3f-49fb-8fc4-c49f6fe2d1a4",
   "metadata": {},
   "outputs": [
    {
     "name": "stdout",
     "output_type": "stream",
     "text": [
      "The mean is 11.6\n"
     ]
    }
   ],
   "source": [
    "#compute the mean of the numbers stored\n",
    "with open('100_int_PSDV.txt','r') as new:\n",
    "    s = 0\n",
    "    numbers = []\n",
    "    for line in new:\n",
    "        num = int(new.readline().strip())\n",
    "        s += num\n",
    "        numbers.append(num)\n",
    "    print(f'The mean is {s/100}')\n",
    "    "
   ]
  },
  {
   "cell_type": "code",
   "execution_count": 75,
   "id": "c1303f59-bd3d-41dc-8783-060312098e53",
   "metadata": {},
   "outputs": [
    {
     "data": {
      "text/plain": [
       "(array([7., 5., 7., 5., 4., 7., 4., 4., 2., 5.]),\n",
       " array([ 1. ,  5.9, 10.8, 15.7, 20.6, 25.5, 30.4, 35.3, 40.2, 45.1, 50. ]),\n",
       " <BarContainer object of 10 artists>)"
      ]
     },
     "execution_count": 75,
     "metadata": {},
     "output_type": "execute_result"
    },
    {
     "data": {
      "image/png": "[encoded data removed]",
      "text/plain": [
       "<Figure size 640x480 with 1 Axes>"
      ]
     },
     "metadata": {},
     "output_type": "display_data"
    }
   ],
   "source": [
    "plt.hist(numbers)"
   ]
  },
  {
   "cell_type": "markdown",
   "id": "8bf35a38-02bc-4166-8bd4-1d97cbcce356",
   "metadata": {},
   "source": [
    "# Q20. CSV FILE OPERATIONS"
   ]
  },
  {
   "cell_type": "code",
   "execution_count": 1,
   "id": "6f808de6-365e-4b58-b884-2a0dbfd7f467",
   "metadata": {},
   "outputs": [],
   "source": [
    "import csv"
   ]
  },
  {
   "cell_type": "code",
   "execution_count": 76,
   "id": "4704e7ec-9133-4775-a413-a3da0b5a700e",
   "metadata": {},
   "outputs": [],
   "source": [
    "# finding the sum of values in a specific column\n",
    "csv_file = open('psdv_csv.csv')\n",
    "data = csv.reader(csv_file)\n",
    "data_lines = list(data)\n",
    "\n",
    "marks = 0\n",
    "numbers = []\n",
    "for line in data_lines[1:]:\n",
    "    marks += int(line[2])\n",
    "    numbers.append(int(line[2]))"
   ]
  },
  {
   "cell_type": "code",
   "execution_count": 77,
   "id": "e35cacec-1187-462a-a4d4-5df1ddcf13db",
   "metadata": {},
   "outputs": [
    {
     "name": "stdout",
     "output_type": "stream",
     "text": [
      "338\n"
     ]
    }
   ],
   "source": [
    "print(marks)"
   ]
  },
  {
   "cell_type": "code",
   "execution_count": 80,
   "id": "bf7f154d-690f-4c20-a2ec-5bc27e4712e4",
   "metadata": {},
   "outputs": [
    {
     "data": {
      "text/plain": [
       "[<matplotlib.lines.Line2D at 0x23f806cb800>]"
      ]
     },
     "execution_count": 80,
     "metadata": {},
     "output_type": "execute_result"
    },
    {
     "data": {
      "image/png": "[encoded data removed]",
      "text/plain": [
       "<Figure size 640x480 with 1 Axes>"
      ]
     },
     "metadata": {},
     "output_type": "display_data"
    }
   ],
   "source": [
    "plt.plot(numbers)"
   ]
  },
  {
   "cell_type": "markdown",
   "id": "b6b138cb-dd0c-42f3-81e6-37c7cd6aa409",
   "metadata": {},
   "source": [
    "# Q21. BASIC STATISTICS"
   ]
  },
  {
   "cell_type": "code",
   "execution_count": 85,
   "id": "099db2c7-fb84-48a1-b3bb-a8fa21f6b68a",
   "metadata": {},
   "outputs": [
    {
     "name": "stdout",
     "output_type": "stream",
     "text": [
      "The mean of the list is 42.5\n",
      "\n",
      "The median is 45.0\n",
      "\n",
      "The mode is 60\n",
      "\n",
      "The standard deviation is 19.84313483298443\n"
     ]
    }
   ],
   "source": [
    "lst = [10,20,30,40,50,60,60,70]\n",
    "\n",
    "#mean\n",
    "mean = sum(lst)/len(lst)\n",
    "print(f'The mean of the list is {sum(lst)/len(lst)}')\n",
    "\n",
    "#median\n",
    "lst.sort()\n",
    "if len(lst) % 2 == 0:\n",
    "    median = (lst[int(len(lst)/2)-1] + lst[int(len(lst)/2+1)-1])/2\n",
    "else:\n",
    "    median = lst[int(len(lst)/2)-1]\n",
    "print(f\"\\nThe median is {median}\")\n",
    "\n",
    "#mode\n",
    "count = 0\n",
    "for numbers in lst:\n",
    "    x = lst.count(numbers)\n",
    "    if x > count:\n",
    "        count = x\n",
    "        mode = numbers\n",
    "\n",
    "print(f'\\nThe mode is {mode}')\n",
    "\n",
    "#standard deviation\n",
    "import math\n",
    "\n",
    "s = 0\n",
    "for num in lst:\n",
    "    s += (num-mean)**2\n",
    "standard_deviation = math.sqrt(s/(len(lst)))\n",
    "print(f'\\nThe standard deviation is {standard_deviation}')\n",
    "\n",
    "lstttt = [standard_deviation,mean,median,mode]"
   ]
  },
  {
   "cell_type": "code",
   "execution_count": 89,
   "id": "4328fb98-a1fd-4b49-b7e2-6ad38727689d",
   "metadata": {},
   "outputs": [
    {
     "data": {
      "image/png": "[encoded data removed]",
      "text/plain": [
       "<Figure size 640x480 with 1 Axes>"
      ]
     },
     "metadata": {},
     "output_type": "display_data"
    }
   ],
   "source": [
    "plt.boxplot(lstttt)\n",
    "plt.show()"
   ]
  },
  {
   "cell_type": "markdown",
   "id": "5a33ea41-9549-47e1-8f8c-5de2f6660c9d",
   "metadata": {},
   "source": [
    "# Q22. NORMALIZATION"
   ]
  },
  {
   "cell_type": "code",
   "execution_count": 93,
   "id": "d9cc4184-59a1-46df-983f-261bb3369e07",
   "metadata": {},
   "outputs": [
    {
     "name": "stdout",
     "output_type": "stream",
     "text": [
      "[0.0, 0.125, 0.75, 0.375, 0.5625, 0.6375, 1.0] is the normalized list for [10, 20, 70, 40, 55, 61, 90]\n"
     ]
    }
   ],
   "source": [
    "lst = [10,20,70,40,55,61,90]\n",
    "normalized_lst = []\n",
    "for numbers in lst:\n",
    "    normalized_lst.append((numbers-min(lst))/(max(lst)-min(lst)))\n",
    "print(f'{normalized_lst} is the normalized list for {lst}')"
   ]
  },
  {
   "cell_type": "code",
   "execution_count": 94,
   "id": "95aa8204-fb4c-47af-a40d-b921801e3ab0",
   "metadata": {},
   "outputs": [
    {
     "data": {
      "text/plain": [
       "[<matplotlib.lines.Line2D at 0x23f96541370>]"
      ]
     },
     "execution_count": 94,
     "metadata": {},
     "output_type": "execute_result"
    },
    {
     "data": {
      "image/png": "[encoded data removed]",
      "text/plain": [
       "<Figure size 640x480 with 1 Axes>"
      ]
     },
     "metadata": {},
     "output_type": "display_data"
    }
   ],
   "source": [
    "plt.plot(normalized_lst)"
   ]
  },
  {
   "cell_type": "markdown",
   "id": "50f9e422-8f7e-46a1-baf3-81e9cfe82703",
   "metadata": {},
   "source": [
    "# Q23. EVEN OR ODD"
   ]
  },
  {
   "cell_type": "code",
   "execution_count": 267,
   "id": "fdee37a0-7124-4d65-8ca4-1e80e214a24b",
   "metadata": {},
   "outputs": [
    {
     "name": "stdin",
     "output_type": "stream",
     "text": [
      "Enter a number to determine Even or Odd:  1234\n"
     ]
    },
    {
     "name": "stdout",
     "output_type": "stream",
     "text": [
      "The number is Even\n"
     ]
    }
   ],
   "source": [
    "#find even or odd\n",
    "num = int(input(\"Enter a number to determine Even or Odd: \"))\n",
    "if num % 2 == 0:\n",
    "    print(\"The number is Even\")\n",
    "else:\n",
    "    print(\"The number is Odd\")"
   ]
  },
  {
   "cell_type": "markdown",
   "id": "11c28919-6d76-4fb7-8c16-66a87d9dceb9",
   "metadata": {},
   "source": [
    "# Q24. GRADE CALCULATOR"
   ]
  },
  {
   "cell_type": "code",
   "execution_count": 270,
   "id": "8aaa2684-c7a8-4848-9e95-bc6d9d041a18",
   "metadata": {},
   "outputs": [
    {
     "name": "stdin",
     "output_type": "stream",
     "text": [
      "Enter your marks:  75\n"
     ]
    },
    {
     "name": "stdout",
     "output_type": "stream",
     "text": [
      "You have been awarded grade C\n"
     ]
    }
   ],
   "source": [
    "#CALCULATE THE GRADE\n",
    "marks = int(input(\"Enter your marks: \"))\n",
    "\n",
    "if 90 < marks < 100:\n",
    "    print(\"You have been awarded grade A\")\n",
    "elif 80 < marks < 91:\n",
    "    print(\"You have been awarded grade B\")\n",
    "elif 70 < marks < 81:\n",
    "    print(\"You have been awarded grade C\")\n",
    "elif 60 < marks < 71:\n",
    "    print(\"You have been awarded grade D\")\n",
    "else:\n",
    "    print(\"You have been awarded grade F\")\n",
    "    \n",
    "    "
   ]
  },
  {
   "cell_type": "markdown",
   "id": "39f0755b-2de8-455e-8128-9d5aed075c40",
   "metadata": {},
   "source": [
    "# Q25. LEAP YEAR CHECKER"
   ]
  },
  {
   "cell_type": "code",
   "execution_count": 277,
   "id": "75a81360-6bef-44d0-abd9-cae9355c057d",
   "metadata": {},
   "outputs": [
    {
     "name": "stdin",
     "output_type": "stream",
     "text": [
      "Enter a year:  1900\n"
     ]
    },
    {
     "name": "stdout",
     "output_type": "stream",
     "text": [
      "Not a leap year\n"
     ]
    }
   ],
   "source": [
    "year = int(input(\"Enter a year: \"))\n",
    "\n",
    "if year % 4 == 0:\n",
    "    if year % 100 == 0 and year % 400 != 0:\n",
    "        print(\"Not a leap year\")\n",
    "    else:\n",
    "        print(\"LEAP YEAR!!\")\n",
    "    "
   ]
  },
  {
   "cell_type": "code",
   "execution_count": null,
   "id": "23bc989b-e183-4feb-98f3-e35f01955cd2",
   "metadata": {},
   "outputs": [],
   "source": []
  }
 ],
 "metadata": {
  "kernelspec": {
   "display_name": "Python 3 (ipykernel)",
   "language": "python",
   "name": "python3"
  },
  "language_info": {
   "codemirror_mode": {
    "name": "ipython",
    "version": 3
   },
   "file_extension": ".py",
   "mimetype": "text/x-python",
   "name": "python",
   "nbconvert_exporter": "python",
   "pygments_lexer": "ipython3",
   "version": "3.12.8"
  }
 },
 "nbformat": 4,
 "nbformat_minor": 5
}
